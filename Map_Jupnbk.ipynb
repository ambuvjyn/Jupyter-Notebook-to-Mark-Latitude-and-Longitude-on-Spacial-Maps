{
 "cells": [
  {
   "cell_type": "code",
   "execution_count": null,
   "id": "73ce9dfb",
   "metadata": {},
   "outputs": [],
   "source": [
    "# Import all necessary packages\n",
    "\n",
    "import pandas as pd\n",
    "import matplotlib.pyplot as plt\n",
    "import descartes\n",
    "import geopandas as gdp\n",
    "from shapely.geometry import Point, Polygon\n",
    "\n",
    "%matplotlib inline"
   ]
  },
  {
   "cell_type": "code",
   "execution_count": null,
   "id": "b66b28e4",
   "metadata": {},
   "outputs": [],
   "source": [
    "# Locate and add the shape file with \"*file*.shp\" extension of the country you require.\n",
    "india_map = gdp.read_file(#use the \"shp\" shape file provided in India_Shape folder)"
   ]
  },
  {
   "cell_type": "code",
   "execution_count": null,
   "id": "e04b0638",
   "metadata": {},
   "outputs": [],
   "source": [
    "#Viewing the shape file \n",
    "\n",
    "fig,ax = plt.subplots(figsize = (30,30))\n",
    "india_map.plot(ax = ax)"
   ]
  },
  {
   "cell_type": "code",
   "execution_count": null,
   "id": "fe7a4e44",
   "metadata": {},
   "outputs": [],
   "source": [
    "#Reading the csv file with longitude and latitude data and heading the data to make sure its correcly loaded.\n",
    "\n",
    "df = pd.read_csv(#use state.csv)\n",
    "crs = {'init': 'epsg:4326'}\n",
    "df.head()"
   ]
  },
  {
   "cell_type": "code",
   "execution_count": null,
   "id": "d35add5e",
   "metadata": {},
   "outputs": [],
   "source": [
    "#Tailing data to make sure the whole data ia loaded.\n",
    "\n",
    "df.tail()"
   ]
  },
  {
   "cell_type": "code",
   "execution_count": null,
   "id": "d9ce3622",
   "metadata": {},
   "outputs": [],
   "source": [
    "geometry = [Point(xy) for xy in zip( df[\"Longitude\"], df[\"Latitude\"])]"
   ]
  },
  {
   "cell_type": "code",
   "execution_count": null,
   "id": "df593d12",
   "metadata": {},
   "outputs": [],
   "source": [
    "geometry[:3]"
   ]
  },
  {
   "cell_type": "code",
   "execution_count": null,
   "id": "4e574dd1",
   "metadata": {},
   "outputs": [],
   "source": [
    "# Confirming the data frame type of coloumns and making sure that latitude and longitude is of type: float64.\n",
    "\n",
    "df.dtypes"
   ]
  },
  {
   "cell_type": "code",
   "execution_count": null,
   "id": "4d825b60",
   "metadata": {},
   "outputs": [],
   "source": [
    "# Configuring and plotting the Latitudes and Longitudes Data and heading it.\n",
    "\n",
    "geo_df = gpd.GeoDataFrame(df, crs = crs, geometry = geometry)\n",
    "geo_df.head()"
   ]
  },
  {
   "cell_type": "code",
   "execution_count": null,
   "id": "2fe370b7",
   "metadata": {},
   "outputs": [],
   "source": [
    "#Plotting the latitue and Longitude to two seperate data on to ashape file and using different marker size and pointers for both the data and outputting it into a png file.\n",
    "fig,ax = plt.subplots(figsize = (30,30))\n",
    "india_map.plot(ax = ax, alpha = 0.4, color='grey')\n",
    "geo_df[geo_df['IDs'] == 1].plot(ax = ax, markersize = 60, color = \"blue\", marker = \"o\", label = \"1\")\n",
    "geo_df[geo_df['IDs'] == 2].plot(ax = ax, markersize = 40, color = \"red\", marker = \"^\", label = \"2\")\n",
    "plt.legend(prop={'size': 15})\n",
    "plt.savefig('all.png', dpi=300, bbox_inches='tight')"
   ]
  }
 ],
 "metadata": {
  "kernelspec": {
   "display_name": "Python 3 (ipykernel)",
   "language": "python",
   "name": "python3"
  },
  "language_info": {
   "codemirror_mode": {
    "name": "ipython",
    "version": 3
   },
   "file_extension": ".py",
   "mimetype": "text/x-python",
   "name": "python",
   "nbconvert_exporter": "python",
   "pygments_lexer": "ipython3",
   "version": "3.8.10"
  }
 },
 "nbformat": 4,
 "nbformat_minor": 5
}
