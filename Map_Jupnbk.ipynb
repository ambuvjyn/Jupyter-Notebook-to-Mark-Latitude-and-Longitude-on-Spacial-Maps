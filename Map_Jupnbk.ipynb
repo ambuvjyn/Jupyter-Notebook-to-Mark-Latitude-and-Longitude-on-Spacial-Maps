{
 "cells": [
  {
   "cell_type": "code",
   "execution_count": 1,
   "id": "73ce9dfb",
   "metadata": {},
   "outputs": [],
   "source": [
    "import pandas as pd\n",
    "import matplotlib.pyplot as plt\n",
    "import descartes\n",
    "import geopandas as gdp\n",
    "from shapely.geometry import Point, Polygon\n",
    "\n",
    "%matplotlib inline"
   ]
  },
  {
   "cell_type": "code",
   "execution_count": 2,
   "id": "b66b28e4",
   "metadata": {},
   "outputs": [
   ],
   "source": [
    "india_map = gdp.read_file(#use the \"shp\" shape file provided in India_Shape folder)"
   ]
  },
  {
   "cell_type": "code",
   "execution_count": null,
   "id": "e04b0638",
   "metadata": {},
   "outputs": [],
   "source": [
    "fig,ax = plt.subplots(figsize = (15,15))\n",
    "india_map.plot(ax = ax)"
   ]
  },
  {
   "cell_type": "code",
   "execution_count": null,
   "id": "fe7a4e44",
   "metadata": {},
   "outputs": [],
   "source": [
    "df = pd.read_csv(#use state.csv)\n",
    "crs = {'init': 'epsg:4326'}\n",
    "df.head()"
   ]
  },
  {
   "cell_type": "code",
   "execution_count": null,
   "id": "d9ce3622",
   "metadata": {},
   "outputs": [],
   "source": [
    "geometry = [Point(xy) for xy in zip( df[\"Longitude\"], df[\"Latitude\"])]"
   ]
  },
  {
   "cell_type": "code",
   "execution_count": null,
   "id": "df593d12",
   "metadata": {},
   "outputs": [],
   "source": [
    "geometry[:3]"
   ]
  },
  {
   "cell_type": "code",
   "execution_count": null,
   "id": "4e574dd1",
   "metadata": {},
   "outputs": [],
   "source": [
    "df.dtypes"
   ]
  },
  {
   "cell_type": "code",
   "execution_count": null,
   "id": "3753364f",
   "metadata": {},
   "outputs": [],
   "source": [
    "#gdf = geopandas.GeoDataFrame(df, geometry=geopandas.points_from_xy(df.Longitude, df.Latitude))"
   ]
  },
  {
   "cell_type": "code",
   "execution_count": null,
   "id": "f1f81930",
   "metadata": {},
   "outputs": [],
   "source": [
    "#print(gdf.head())"
   ]
  },
  {
   "cell_type": "code",
   "execution_count": null,
   "id": "4d825b60",
   "metadata": {},
   "outputs": [],
   "source": [
    "geo_df = gpd.GeoDataFrame(df, crs = crs, geometry = geometry)\n",
    "geo_df.head()"
   ]
  },
  {
   "cell_type": "code",
   "execution_count": null,
   "id": "2fe370b7",
   "metadata": {},
   "outputs": [],
   "source": [
    "fig,ax = plt.subplots(figsize = (15,15))\n",
    "india_map.plot(ax = ax, alpha = 0.4, color='grey')\n",
    "geo_df[geo_df['IDs'] == 1].plot(ax = ax, markersize = 20, color = \"blue\", marker = \"o\", label = \"1\")\n",
    "geo_df[geo_df['IDs'] == 2].plot(ax = ax, markersize = 20, color = \"red\", marker = \"o\", label = \"2\")\n",
    "plt.legend(prop={'size': 15})"
   ]
  },
  {
   "cell_type": "code",
   "execution_count": null,
   "id": "95bb7fd3",
   "metadata": {},
   "outputs": [],
   "source": []
  }
 ],
 "metadata": {
  "kernelspec": {
   "display_name": "Python 3 (ipykernel)",
   "language": "python",
   "name": "python3"
  },
  "language_info": {
   "codemirror_mode": {
    "name": "ipython",
    "version": 3
   },
   "file_extension": ".py",
   "mimetype": "text/x-python",
   "name": "python",
   "nbconvert_exporter": "python",
   "pygments_lexer": "ipython3",
   "version": "3.8.10"
  }
 },
 "nbformat": 4,
 "nbformat_minor": 5
}
